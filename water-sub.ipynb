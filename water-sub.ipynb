{
 "cells": [
  {
   "cell_type": "markdown",
   "id": "143fb999",
   "metadata": {},
   "source": [
    "### SIMPLE NOTEBOOK TO ESTIMATE TIME TO SUBDUCT THE OCEANS\n",
    "***\n",
    "#### Quick start guide\n",
    "- Advance through code blocks by clicking the \"run\" button above\n",
    "\n",
    "- The current version is a test case, there is no plotting, and it is a very simple calculation\n",
    "\n",
    "- Feel free to change the values in the next block of code and see how the results vary\n",
    "\n",
    "- Text written after hastags (#) indicate comments or instructions\n",
    "\n",
    "- When you change a value you need to advance through all the code blocks again\n",
    "\n",
    "- Have fun!"
   ]
  },
  {
   "cell_type": "code",
   "execution_count": 65,
   "id": "fea7bf7e",
   "metadata": {},
   "outputs": [],
   "source": [
    "##ASSUMED VALUES AND CONSTANTS-------------\n",
    "\n",
    "#this block of code sets the variables we need for all of the calculations\n",
    "#it is separated into the two main parts of the calculation\n",
    "#once you have gone through the code you can come back and change any of these values\n",
    "#but will need to run the code blocks again\n",
    "\n",
    "##----------subduction inputs--------------\n",
    "#to calculate how much water is exchanged between the oceans and the mantle\n",
    "\n",
    "subduction_length=50000      #kilometers along which subduction occurs (km)\n",
    "subduction_thickness=10      #thickness of water-bearing rocks being subducted in kilometers (km)\n",
    "subduction_rate=5            #subduction rate in centimeters per year (cm/yr)\n",
    "subduction_hydration=5       #weight percent of water in subducted rocks (%)\n",
    "subduction_density=3000      #density of subducted rocks in kilograms per cubic meter (Kg/m^3)\n",
    "\n",
    "\n",
    "##----------earth & ocean properties------\n",
    "#to calculate the amount of water within the ocean and the mantle\n",
    "\n",
    "earth_radius=6400            #radius of earth in kilometers (km)\n",
    "ocean_depth=3.7              #depth of ocean in kilometers (km)\n",
    "ocean_floor=70               #percent of earths surface covered by oceans (%)\n",
    "ocean_density=1000           #density of water in oceans in kilograms per cubic meter (Kg/m^3) "
   ]
  },
  {
   "cell_type": "markdown",
   "id": "d21e6c8e",
   "metadata": {},
   "source": [
    "#### Convert to consistent Units\n",
    "- We need to make sure that all of the variables have the same units\n",
    "\n",
    "- Our standard units for this exercise will be meters, kilograms, and years\n",
    "\n",
    "- Any variable expressed as a percent above needs to be changed into a fraction (percent/100)\n",
    "\n",
    "- Doing this conversion now makes for less hassle later, and much simpler code"
   ]
  },
  {
   "cell_type": "code",
   "execution_count": 66,
   "id": "117e5779",
   "metadata": {},
   "outputs": [],
   "source": [
    "##CONVERSION CONSTANTS---------\n",
    "km2m=1000      #km to meter\n",
    "cm2m=.01       #centimeter to meter\n",
    "p2f=.01        #percent to fraction\n",
    "pi=3.14        #value of pi to 3 digits\n",
    "##------------------------------\n",
    "##-----CONVERT TO LIKE UNITS----\n",
    "subduction_length = subduction_length * km2m           #change kilometer to meter\n",
    "subduction_thickness = subduction_thickness * km2m     #change kilometer to meter\n",
    "subduction_rate = subduction_rate * cm2m               #change centimeters per year to meters per year\n",
    "subduction_hydration = subduction_hydration * p2f      #change hydration percent to mass fraction\n",
    "\n",
    "earth_radius=earth_radius*km2m                         #change kilometer to meter\n",
    "ocean_depth=ocean_depth*km2m                           #change kilometer to meter\n",
    "ocean_floor=ocean_floor*p2f                            #change ocean coverage percent to area fraction"
   ]
  },
  {
   "cell_type": "markdown",
   "id": "ac83f871",
   "metadata": {},
   "source": [
    "***\n",
    "$\\mathbf{\\text{1. CALCULATE MASS OF WATER SUBDUCTED PER YEAR}}$\n",
    "***\n",
    "Where the full equation is:<br>\n",
    "<br>\n",
    "&emsp;$W_{flux}=T_{crust}*\\rho_{crust}*L_{sub}*V_{sub}*X_{H2O}$<br>\n",
    "<br>\n",
    "&emsp;&emsp;units: $\\frac{Kg_{H2O}}{yr}=\\frac{m}{}*\\frac{Kg_{rock}}{m^3}*\\frac{m}{}*\\frac{m}{yr}*\\frac{Kg_{H2O}}{Kg_{rock}}$\n",
    "<br>\n",
    "<br>\n",
    "This can be understood more easily if we break it into pieces:"
   ]
  },
  {
   "cell_type": "markdown",
   "id": "1a792e55",
   "metadata": {},
   "source": [
    "1a.&emsp;Calculate mass of single column of hydrated crust:<br> \n",
    "<br>\n",
    "&emsp;&emsp;$M_{column}=T_{crust} * \\rho_{crust}$<br>\n",
    "<br>\n",
    "&emsp;&emsp;where:&emsp;${\\scriptstyle T_{crust}=crustal\\, thickness \\, (m),}$\n",
    "    &emsp;&emsp;${\\scriptstyle \\rho_{crust}=crustal\\, density\\, (Kg/m^3)}$\n",
    "    \n",
    "&emsp;&emsp;units: $\\frac{Kg}{m^2}=\\frac{m}{} *\\frac{Kg}{m^3}$\n",
    "    \n",
    "1b.&emsp;Calculate mass subducted per meter of convergence:<br> \n",
    "<br>\n",
    "&emsp;&emsp;$M_{sub}=M_{column} * L_{sub}$<br>\n",
    "<br>\n",
    "&emsp;&emsp;where:&emsp;${\\scriptstyle L_{sub}=length\\, of \\, subduction \\, zones\\, (m),}$\n",
    "    \n",
    "&emsp;&emsp;units: $\\frac{Kg}{m}=\\frac{Kg}{m^2} *\\frac{m}{}$\n",
    "    \n",
    "1c.&emsp;Calculate mass flux subducted per year:<br> \n",
    "<br>\n",
    "&emsp;&emsp;$M_{flux}=M_{sub} * V_{sub}$<br>\n",
    "<br>\n",
    "&emsp;&emsp;where:&emsp;${\\scriptstyle V_{sub}=subduction\\, rate \\, (m/yr),}$\n",
    "    \n",
    "&emsp;&emsp;units: $\\frac{Kg}{yr}=\\frac{Kg}{m} *\\frac{m}{yr}$\n",
    "    \n",
    "1d.&emsp;Calculate water flux subducted per year:<br> \n",
    "<br>\n",
    "&emsp;&emsp;$W_{flux}=M_{flux} * X_{H2O}$<br>\n",
    "<br>\n",
    "&emsp;&emsp;where:&emsp;${\\scriptstyle X_{H2O}=H2O\\, mass \\, fraction \\,(Kg_{H2O}/Kg_{rock}),}$\n",
    "    \n",
    "&emsp;&emsp;units: $\\frac{Kg_{H2O}}{yr}=\\frac{Kg_{rock}}{yr} *\\frac{Kg_{H2O}}{Kg_{rock}}$"
   ]
  },
  {
   "cell_type": "code",
   "execution_count": 69,
   "id": "1d02b7c1",
   "metadata": {},
   "outputs": [
    {
     "name": "stdout",
     "output_type": "stream",
     "text": [
      "1a. column mass =   3.00E+07 (kg/m^2)   -->   a 10km thick column of rock weighs  30 million kilograms!\n",
      "1c. mass subducted globally per year =   7.50E+13 (kg/yr)   -->   that equals  75 trillion kilograms!\n",
      "1d. water subducted globally per year =   3.75E+12 (kg H2O/yr)   -->   3.8 trillion kilograms of water!\n"
     ]
    }
   ],
   "source": [
    "subduction_unit_mass = subduction_thickness * subduction_density      #1a\n",
    "subduction_mass = subduction_unit_mass * subduction_length            #1b\n",
    "subduction_mass_flux = subduction_mass * subduction_rate              #1c\n",
    "subduction_water_flux = subduction_mass_flux * subduction_hydration   #1d\n",
    "\n",
    "\n",
    "print('1a. column mass = %10.2E (kg/m^2)   -->   a 10km thick column of rock weighs %3d million kilograms!\\n\\\n",
    "1c. mass subducted globally per year = %10.2E (kg/yr)   -->   that equals %3d trillion kilograms!\\n\\\n",
    "1d. water subducted globally per year = %10.2E (kg H2O/yr)   -->   %3.1f trillion kilograms of water!'\\\n",
    "%(subduction_unit_mass,subduction_unit_mass/1e6,subduction_mass_flux,subduction_mass_flux/1e12,\\\n",
    "  subduction_water_flux, subduction_water_flux/1e12))"
   ]
  },
  {
   "cell_type": "code",
   "execution_count": 70,
   "id": "5e177945",
   "metadata": {},
   "outputs": [
    {
     "name": "stdout",
     "output_type": "stream",
     "text": [
      "118830 kilograms per second!\n"
     ]
    }
   ],
   "source": [
    "water_per_sec=subduction_water_flux/(3600*24*365.25)\n",
    "print('%4.0f kilograms per second!'%(water_per_sec))"
   ]
  },
  {
   "cell_type": "markdown",
   "id": "0b987d18",
   "metadata": {},
   "source": [
    "***\n",
    "$\\mathbf{\\text{2. CALCULATE MASS OF WATER IN EARTHS OCEANS}}$\n",
    "***\n",
    "Starting with the equation for the volume of a sphere:<br>\n",
    "<br>\n",
    "&emsp;$V_{sphere}=\\frac{4}{3} *\\pi *r^3$<br>\n",
    "<br>\n",
    "We calculate the volume of a spherical shell with a thickness equal to earths average ocean depth:<br>\n",
    "<br>\n",
    "&emsp;$V_{shell}=V_{earth}-V_{earth-ocean}=\\frac{4}{3}\\pi(r_{e}^3-r_{e-o}^3)$<br>\n",
    "<br>\n",
    "&emsp;&emsp;where:&emsp;${\\scriptstyle r_{e}=earth \\, radius \\, (m),}$\n",
    "    &emsp;&emsp;${\\scriptstyle r_{e-o}=earth \\, radius \\, minus \\, ocean \\, depth \\, (m),}$<br>\n",
    "<br>\n",
    "From which we can determine the volume and mass of the earths oceans:<br>\n",
    "<br>\n",
    "&emsp;$V_{ocean}=V_{shell}*A_{ocean}$&emsp;&emsp;and&emsp;&emsp;$M_{ocean}=V_{ocean}*\\rho_{sw}$<br>\n",
    "<br>\n",
    "&emsp;&emsp;where:&emsp;${\\scriptstyle A_{ocean}=fractional\\, surface\\, area\\, of\\, oceans,}$\n",
    "    &emsp;&emsp;${\\scriptstyle \\rho_{sw}=density \\, of \\, sea \\, water \\, (Kg/m^3),}$<br>"
   ]
  },
  {
   "cell_type": "code",
   "execution_count": 71,
   "id": "df3eec68",
   "metadata": {},
   "outputs": [
    {
     "name": "stdout",
     "output_type": "stream",
     "text": [
      "Earth Ocean Volume =   1.33E+18 (m^3)\n",
      "Earth Ocean Mass =   1.33E+21 (kg)\n"
     ]
    }
   ],
   "source": [
    "r1=earth_radius\n",
    "r2=earth_radius-ocean_depth\n",
    "Vshell=4/3*pi*(r1**3-r2**3)\n",
    "\n",
    "Vocean=Vshell*ocean_floor\n",
    "\n",
    "Mocean=Vocean*ocean_density\n",
    "print('Earth Ocean Volume = %10.2E (m^3)\\nEarth Ocean Mass = %10.2E (kg)'%(Vocean, Mocean))"
   ]
  },
  {
   "cell_type": "markdown",
   "id": "a948ec3a",
   "metadata": {},
   "source": [
    "***\n",
    "$\\mathbf{\\text{3. CALCULATE HOW LONG IT TAKES TO SUBDUCT THE OCEANS}}$\n",
    "***\n",
    "This is done simply by dividing the ocean mass by the loss of water into subduction zones:<br>\n",
    "<br>\n",
    "&emsp;$t_{ocean}=\\frac{M_{ocean}}{W_{flux}}$<br>"
   ]
  },
  {
   "cell_type": "code",
   "execution_count": 73,
   "id": "c7956dc1",
   "metadata": {},
   "outputs": [
    {
     "name": "stdout",
     "output_type": "stream",
     "text": [
      "time required to subduct the ocean = 355 million years\n"
     ]
    }
   ],
   "source": [
    "t_ocean_subduction = Mocean / subduction_water_flux\n",
    "print( 'time required to subduct the ocean = %3d million years'%(t_ocean_subduction/1e6))"
   ]
  },
  {
   "cell_type": "code",
   "execution_count": null,
   "id": "54c1a0ce",
   "metadata": {},
   "outputs": [],
   "source": []
  }
 ],
 "metadata": {
  "kernelspec": {
   "display_name": "Python 3 (ipykernel)",
   "language": "python",
   "name": "python3"
  },
  "language_info": {
   "codemirror_mode": {
    "name": "ipython",
    "version": 3
   },
   "file_extension": ".py",
   "mimetype": "text/x-python",
   "name": "python",
   "nbconvert_exporter": "python",
   "pygments_lexer": "ipython3",
   "version": "3.9.13"
  }
 },
 "nbformat": 4,
 "nbformat_minor": 5
}
